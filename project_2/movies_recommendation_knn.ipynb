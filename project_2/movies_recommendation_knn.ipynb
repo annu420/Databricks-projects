{
 "cells": [
  {
   "cell_type": "markdown",
   "metadata": {
    "application/vnd.databricks.v1+cell": {
     "cellMetadata": {
      "byteLimit": 2048000,
      "rowLimit": 10000
     },
     "inputWidgets": {},
     "nuid": "3e91e348-9865-44e5-8f2f-5907ddfb2311",
     "showTitle": false,
     "title": ""
    }
   },
   "source": [
    "#MOVIE RECOMMENDATION USING RATINGS"
   ]
  },
  {
   "cell_type": "code",
   "execution_count": 0,
   "metadata": {
    "application/vnd.databricks.v1+cell": {
     "cellMetadata": {
      "byteLimit": 2048000,
      "rowLimit": 10000
     },
     "inputWidgets": {},
     "nuid": "80b5414a-333c-4b76-8b9e-b5dcbf903da3",
     "showTitle": false,
     "title": ""
    }
   },
   "outputs": [
    {
     "output_type": "display_data",
     "data": {
      "application/vnd.databricks.v1+bamboolib_hint": "{\"pd.DataFrames\": [], \"version\": \"0.0.1\"}",
      "text/plain": []
     },
     "metadata": {},
     "output_type": "display_data"
    }
   ],
   "source": [
    "import pandas as pd"
   ]
  },
  {
   "cell_type": "code",
   "execution_count": 0,
   "metadata": {
    "application/vnd.databricks.v1+cell": {
     "cellMetadata": {
      "byteLimit": 2048000,
      "rowLimit": 10000
     },
     "inputWidgets": {},
     "nuid": "ba34bbe4-94b4-45ea-b4c0-947286927be7",
     "showTitle": false,
     "title": ""
    }
   },
   "outputs": [],
   "source": [
    "from fuzzywuzzy import process"
   ]
  },
  {
   "cell_type": "code",
   "execution_count": 0,
   "metadata": {
    "application/vnd.databricks.v1+cell": {
     "cellMetadata": {
      "byteLimit": 2048000,
      "rowLimit": 10000
     },
     "inputWidgets": {},
     "nuid": "9d3a4902-2672-40ba-8fd5-94f7acb08690",
     "showTitle": false,
     "title": ""
    }
   },
   "outputs": [],
   "source": [
    "def movie_recommender(movie_name,df,Data,n):\n",
    "    idx= process.extractOne(movie_name,df['title'])[2]\n",
    "    print(\"movie selected: \" ,df['title'][idx], \"Index: \",idx)\n",
    "    print(\"Movie recommendation......\")\n",
    "    Distance, indices = model.kneighbors(Data[idx],n_neighbors = n)\n",
    "\n",
    "    rec_movies={\"indices\": [i for i in indices], \"movies\":[df['title'][i].where(i!=idx) for i in indices]}\n",
    "    for i in indices:\n",
    "        print(df['title'][i].where(i!=idx))\n",
    "        # rec_movies.append(df['title'][i].where(i!=idx))\n",
    "    dataframe=pd.DataFrame(rec_movies, columns = ['indices', 'movies'])\n",
    "    return(dataframe)\n",
    "    \n",
    "    \n",
    "\n"
   ]
  },
  {
   "cell_type": "code",
   "execution_count": 0,
   "metadata": {
    "application/vnd.databricks.v1+cell": {
     "cellMetadata": {
      "byteLimit": 2048000,
      "rowLimit": 10000
     },
     "inputWidgets": {},
     "nuid": "ffd82a92-b7e5-49c1-880e-df50c84ef122",
     "showTitle": false,
     "title": ""
    }
   },
   "outputs": [
    {
     "output_type": "stream",
     "name": "stdout",
     "output_type": "stream",
     "text": [
      "movie selected:  Avatar (2009) Index:  7212\nMovie recommendation......\n7331    St Trinian's 2: The Legend of Fritton's Gold (...\n9158                       A Very Murray Christmas (2015)\n7842                                   John Carter (2012)\n7583                     Daffy Duck's Quackbusters (1988)\n9118                                    Witch Hunt (1999)\n7917                                        Presto (2008)\n8812                                 Power/Rangers (2015)\n7922    Dragon Ball Z: The Return of Cooler (Doragon b...\n3686                  Adventures of Huck Finn, The (1993)\n9212                Requiem for the American Dream (2015)\nName: title, dtype: object\n"
     ]
    }
   ],
   "source": [
    "from scipy.sparse import csr_matrix\n",
    "import pandas as pd\n",
    "import pyspark.pandas as ps\n",
    "from pyspark.sql.functions import explode, col\n",
    "\n",
    "# CREATING WIDGET TO TAKE INPUT FROM THE USER\n",
    "dbutils.widgets.text(name=\"Entered_movie\", defaultValue=\"Avatar\", label=\"Type movie name\")\n",
    "input_movie = dbutils.widgets.get(\"Entered_movie\")\n",
    "# print(input_movie)\n",
    "\n",
    "# READING DATA FROM THE CSV FILE IN THE DBFS AND CREATING ITS SPARK DATAFRAME\n",
    "df = spark.read.format(\"csv\")\\\n",
    ".option(\"inferSchema\", \"true\") \\\n",
    ".option(\"header\", \"true\") \\\n",
    ".option(\"sep\", \",\") \\\n",
    ".load(\"dbfs:/FileStore/tables/movies_y.csv\").select(\"movieId\", \"title\")\n",
    "\n",
    "df_pandas = df.toPandas()\n",
    "\n",
    "ratings_df = spark.read.format(\"csv\")\\\n",
    ".option(\"inferSchema\", \"true\") \\\n",
    ".option(\"header\", \"true\") \\\n",
    ".option(\"sep\", \",\") \\\n",
    ".load(\"dbfs:/FileStore/tables/ratings.csv\").select(\"userId\", \"movieId\", \"rating\")\n",
    "\n",
    "ratings_df_p = ratings_df.toPandas()\n",
    "\n",
    "# CONVERTING OUR DATA TO TRAIN THE MODEL\n",
    "ratings_table = ratings_df_p.pivot(index=\"movieId\", columns=\"userId\", values=\"rating\").fillna(0)\n",
    "mat_rating = csr_matrix(ratings_table.values)\n",
    "\n",
    "# IMPORTING NearestNeighbors MODEL AND TRAINING OUR MODEL BY INSERTING OUR DATA IN IT \n",
    "from sklearn.neighbors import NearestNeighbors\n",
    "model = NearestNeighbors(metric= \"cosine\", algorithm=\"brute\", n_neighbors=20)\n",
    "model.fit(mat_rating)\n",
    "\n",
    "# CALLING OUR CREATED FUNCTION TO GIVE THE OUTPUT USING TRAINED MODEL \n",
    "Recommended_mov= movie_recommender(input_movie, df_pandas, mat_rating, 10)\n",
    "\n",
    "# CONVERTING OUR OUTPUT INTO SPARK DATAFRAME FROM PANDAS DATAFRAME TO DISPLAY ON TYHE DASHBOARD\n",
    "Recommended_mov= Recommended_mov.fillna(0)\n",
    "Recommended_mov['movies']=Recommended_mov['movies'].astype(str)\n",
    "\n",
    "rec_spark = ps.DataFrame(Recommended_mov).to_spark()\n"
   ]
  },
  {
   "cell_type": "code",
   "execution_count": 0,
   "metadata": {
    "application/vnd.databricks.v1+cell": {
     "cellMetadata": {
      "byteLimit": 2048000,
      "rowLimit": 10000
     },
     "inputWidgets": {},
     "nuid": "8d07b49d-aaf7-47e0-88e2-223a3beca8db",
     "showTitle": false,
     "title": ""
    }
   },
   "outputs": [
    {
     "output_type": "display_data",
     "data": {
      "text/html": [
       "<style scoped>\n",
       "  .table-result-container {\n",
       "    max-height: 300px;\n",
       "    overflow: auto;\n",
       "  }\n",
       "  table, th, td {\n",
       "    border: 1px solid black;\n",
       "    border-collapse: collapse;\n",
       "  }\n",
       "  th, td {\n",
       "    padding: 5px;\n",
       "  }\n",
       "  th {\n",
       "    text-align: left;\n",
       "  }\n",
       "</style><div class='table-result-container'><table class='table-result'><thead style='background-color: white'><tr><th>indices</th><th>movies</th></tr></thead><tbody><tr><td>List(7331, 9158, 7842, 7583, 9118, 7917, 8812, 7922, 3686, 9212)</td><td>7331    St Trinian's 2: The Legend of Fritton's Gold (...\n",
       "9158                       A Very Murray Christmas (2015)\n",
       "7842                                   John Carter (2012)\n",
       "7583                     Daffy Duck's Quackbusters (1988)\n",
       "9118                                    Witch Hunt (1999)\n",
       "7917                                        Presto (2008)\n",
       "8812                                 Power/Rangers (2015)\n",
       "7922    Dragon Ball Z: The Return of Cooler (Doragon b...\n",
       "3686                  Adventures of Huck Finn, The (1993)\n",
       "9212                Requiem for the American Dream (2015)\n",
       "Name: title, dtype: object</td></tr></tbody></table></div>"
      ]
     },
     "metadata": {
      "application/vnd.databricks.v1+output": {
       "addedWidgets": {},
       "aggData": [],
       "aggError": "",
       "aggOverflow": false,
       "aggSchema": [],
       "aggSeriesLimitReached": false,
       "aggType": "",
       "arguments": {},
       "columnCustomDisplayInfos": {},
       "data": [
        [
         [
          7331,
          9158,
          7842,
          7583,
          9118,
          7917,
          8812,
          7922,
          3686,
          9212
         ],
         "7331    St Trinian's 2: The Legend of Fritton's Gold (...\n9158                       A Very Murray Christmas (2015)\n7842                                   John Carter (2012)\n7583                     Daffy Duck's Quackbusters (1988)\n9118                                    Witch Hunt (1999)\n7917                                        Presto (2008)\n8812                                 Power/Rangers (2015)\n7922    Dragon Ball Z: The Return of Cooler (Doragon b...\n3686                  Adventures of Huck Finn, The (1993)\n9212                Requiem for the American Dream (2015)\nName: title, dtype: object"
        ]
       ],
       "datasetInfos": [],
       "dbfsResultPath": null,
       "isJsonSchema": true,
       "metadata": {},
       "overflow": false,
       "plotOptions": {
        "customPlotOptions": {},
        "displayType": "table",
        "pivotAggregation": null,
        "pivotColumns": null,
        "xColumns": null,
        "yColumns": null
       },
       "removedWidgets": [],
       "schema": [
        {
         "metadata": "{}",
         "name": "indices",
         "type": "{\"type\":\"array\",\"elementType\":\"long\",\"containsNull\":true}"
        },
        {
         "metadata": "{}",
         "name": "movies",
         "type": "\"string\""
        }
       ],
       "type": "table"
      }
     },
     "output_type": "display_data"
    }
   ],
   "source": [
    "display(rec_spark)"
   ]
  },
  {
   "cell_type": "markdown",
   "metadata": {
    "application/vnd.databricks.v1+cell": {
     "cellMetadata": {
      "byteLimit": 2048000,
      "rowLimit": 10000
     },
     "inputWidgets": {},
     "nuid": "7b0c2dbe-3bcb-4f8e-92cd-cababa66fe76",
     "showTitle": false,
     "title": ""
    }
   },
   "source": [
    "CREATING TABLES AND VISUALIZATION TO DISPLAY ON DASHBOARD"
   ]
  },
  {
   "cell_type": "code",
   "execution_count": 0,
   "metadata": {
    "application/vnd.databricks.v1+cell": {
     "cellMetadata": {
      "byteLimit": 2048000,
      "rowLimit": 10000
     },
     "inputWidgets": {},
     "nuid": "77d5b0f6-8202-4ded-bbb7-dbb7b896e01b",
     "showTitle": false,
     "title": ""
    }
   },
   "outputs": [],
   "source": [
    "rec_spark.createOrReplaceTempView(\"temp_table\")\n",
    "rec_spark.write.mode(\"overwrite\").saveAsTable(\"default.rec_mov\")\n",
    "ratings_df.createOrReplaceTempView(\"temp_table1\")\n",
    "ratings_df.write.mode(\"overwrite\").saveAsTable(\"default.rating_table\")\n",
    "df = spark.read.format(\"csv\")\\\n",
    ".option(\"inferSchema\", \"true\") \\\n",
    ".option(\"header\", \"true\") \\\n",
    ".option(\"sep\", \",\") \\\n",
    ".load(\"dbfs:/FileStore/tables/movies_y.csv\").select(\"movieId\", \"title\", \"genres\")\n",
    "df.createOrReplaceTempView(\"temp_table2\")\n",
    "df.write.mode(\"overwrite\").option(\"mergeSchema\", \"true\").saveAsTable(\"default.movie_table\")\n",
    "\n",
    "\n",
    "\n",
    "\n",
    "# rec_mov.withcolumn(\"indices\", explode(col(\"indices\")))"
   ]
  },
  {
   "cell_type": "code",
   "execution_count": 0,
   "metadata": {
    "application/vnd.databricks.v1+cell": {
     "cellMetadata": {
      "byteLimit": 2048000,
      "implicitDf": true,
      "rowLimit": 10000
     },
     "inputWidgets": {},
     "nuid": "82d6d7c9-a9fe-4f08-8953-ed1e8244d762",
     "showTitle": false,
     "title": ""
    }
   },
   "outputs": [
    {
     "output_type": "display_data",
     "data": {
      "text/html": [
       "<style scoped>\n",
       "  .table-result-container {\n",
       "    max-height: 300px;\n",
       "    overflow: auto;\n",
       "  }\n",
       "  table, th, td {\n",
       "    border: 1px solid black;\n",
       "    border-collapse: collapse;\n",
       "  }\n",
       "  th, td {\n",
       "    padding: 5px;\n",
       "  }\n",
       "  th {\n",
       "    text-align: left;\n",
       "  }\n",
       "</style><div class='table-result-container'><table class='table-result'><thead style='background-color: white'><tr><th>num_affected_rows</th><th>num_inserted_rows</th></tr></thead><tbody></tbody></table></div>"
      ]
     },
     "metadata": {
      "application/vnd.databricks.v1+output": {
       "addedWidgets": {},
       "aggData": [],
       "aggError": "",
       "aggOverflow": false,
       "aggSchema": [],
       "aggSeriesLimitReached": false,
       "aggType": "",
       "arguments": {},
       "columnCustomDisplayInfos": {},
       "data": [],
       "datasetInfos": [],
       "dbfsResultPath": null,
       "isJsonSchema": true,
       "metadata": {},
       "overflow": false,
       "plotOptions": {
        "customPlotOptions": {},
        "displayType": "table",
        "pivotAggregation": null,
        "pivotColumns": null,
        "xColumns": null,
        "yColumns": null
       },
       "removedWidgets": [],
       "schema": [
        {
         "metadata": "{}",
         "name": "num_affected_rows",
         "type": "\"long\""
        },
        {
         "metadata": "{}",
         "name": "num_inserted_rows",
         "type": "\"long\""
        }
       ],
       "type": "table"
      }
     },
     "output_type": "display_data"
    }
   ],
   "source": [
    "%sql\n",
    "create or replace table new_movie as\n",
    "select *, row_number() over (order by movieId) as index from movie_table"
   ]
  },
  {
   "cell_type": "code",
   "execution_count": 0,
   "metadata": {
    "application/vnd.databricks.v1+cell": {
     "cellMetadata": {
      "byteLimit": 2048000,
      "implicitDf": true,
      "rowLimit": 10000
     },
     "inputWidgets": {},
     "nuid": "906cc4ed-567d-4a0d-aa9e-4ec038d4d1de",
     "showTitle": false,
     "title": ""
    }
   },
   "outputs": [
    {
     "output_type": "display_data",
     "data": {
      "text/html": [
       "<style scoped>\n",
       "  .table-result-container {\n",
       "    max-height: 300px;\n",
       "    overflow: auto;\n",
       "  }\n",
       "  table, th, td {\n",
       "    border: 1px solid black;\n",
       "    border-collapse: collapse;\n",
       "  }\n",
       "  th, td {\n",
       "    padding: 5px;\n",
       "  }\n",
       "  th {\n",
       "    text-align: left;\n",
       "  }\n",
       "</style><div class='table-result-container'><table class='table-result'><thead style='background-color: white'><tr><th>num_affected_rows</th><th>num_inserted_rows</th></tr></thead><tbody></tbody></table></div>"
      ]
     },
     "metadata": {
      "application/vnd.databricks.v1+output": {
       "addedWidgets": {},
       "aggData": [],
       "aggError": "",
       "aggOverflow": false,
       "aggSchema": [],
       "aggSeriesLimitReached": false,
       "aggType": "",
       "arguments": {},
       "columnCustomDisplayInfos": {},
       "data": [],
       "datasetInfos": [],
       "dbfsResultPath": null,
       "isJsonSchema": true,
       "metadata": {},
       "overflow": false,
       "plotOptions": {
        "customPlotOptions": {},
        "displayType": "table",
        "pivotAggregation": null,
        "pivotColumns": null,
        "xColumns": null,
        "yColumns": null
       },
       "removedWidgets": [],
       "schema": [
        {
         "metadata": "{}",
         "name": "num_affected_rows",
         "type": "\"long\""
        },
        {
         "metadata": "{}",
         "name": "num_inserted_rows",
         "type": "\"long\""
        }
       ],
       "type": "table"
      }
     },
     "output_type": "display_data"
    }
   ],
   "source": [
    "%sql\n",
    "create or replace table rec_ind as\n",
    "select explode(indices) as ind from rec_mov;"
   ]
  },
  {
   "cell_type": "code",
   "execution_count": 0,
   "metadata": {
    "application/vnd.databricks.v1+cell": {
     "cellMetadata": {
      "byteLimit": 2048000,
      "implicitDf": true,
      "rowLimit": 10000
     },
     "inputWidgets": {},
     "nuid": "e7403924-e982-4ce2-a0d8-3844a44a5571",
     "showTitle": false,
     "title": ""
    }
   },
   "outputs": [
    {
     "output_type": "display_data",
     "data": {
      "text/html": [
       "<style scoped>\n",
       "  .table-result-container {\n",
       "    max-height: 300px;\n",
       "    overflow: auto;\n",
       "  }\n",
       "  table, th, td {\n",
       "    border: 1px solid black;\n",
       "    border-collapse: collapse;\n",
       "  }\n",
       "  th, td {\n",
       "    padding: 5px;\n",
       "  }\n",
       "  th {\n",
       "    text-align: left;\n",
       "  }\n",
       "</style><div class='table-result-container'><table class='table-result'><thead style='background-color: white'><tr><th>title</th><th>overall_rating</th></tr></thead><tbody><tr><td>Adventures of Huck Finn, The (1993)</td><td>2.5</td></tr><tr><td>Power/Rangers (2015)</td><td>4.0</td></tr><tr><td>A Very Murray Christmas (2015)</td><td>2.5</td></tr><tr><td>Daffy Duck's Quackbusters (1988)</td><td>2.0</td></tr><tr><td>John Carter (2012)</td><td>3.090909090909091</td></tr><tr><td>Requiem for the American Dream (2015)</td><td>2.5</td></tr><tr><td>St Trinian's 2: The Legend of Fritton's Gold (2009)</td><td>2.0</td></tr><tr><td>Presto (2008)</td><td>5.0</td></tr><tr><td>Dragon Ball Z: The Return of Cooler (Doragon bôru Z 6: Gekitotsu! Hyakuoku pawâ no senshi) (1992)</td><td>4.0</td></tr><tr><td>Witch Hunt (1999)</td><td>2.5</td></tr></tbody></table></div>"
      ]
     },
     "metadata": {
      "application/vnd.databricks.v1+output": {
       "addedWidgets": {},
       "aggData": [],
       "aggError": "",
       "aggOverflow": false,
       "aggSchema": [],
       "aggSeriesLimitReached": false,
       "aggType": "",
       "arguments": {},
       "columnCustomDisplayInfos": {},
       "data": [
        [
         "Adventures of Huck Finn, The (1993)",
         2.5
        ],
        [
         "Power/Rangers (2015)",
         4.0
        ],
        [
         "A Very Murray Christmas (2015)",
         2.5
        ],
        [
         "Daffy Duck's Quackbusters (1988)",
         2.0
        ],
        [
         "John Carter (2012)",
         3.090909090909091
        ],
        [
         "Requiem for the American Dream (2015)",
         2.5
        ],
        [
         "St Trinian's 2: The Legend of Fritton's Gold (2009)",
         2.0
        ],
        [
         "Presto (2008)",
         5.0
        ],
        [
         "Dragon Ball Z: The Return of Cooler (Doragon bôru Z 6: Gekitotsu! Hyakuoku pawâ no senshi) (1992)",
         4.0
        ],
        [
         "Witch Hunt (1999)",
         2.5
        ]
       ],
       "datasetInfos": [],
       "dbfsResultPath": null,
       "isJsonSchema": true,
       "metadata": {},
       "overflow": false,
       "plotOptions": {
        "customPlotOptions": {},
        "displayType": "table",
        "pivotAggregation": null,
        "pivotColumns": null,
        "xColumns": null,
        "yColumns": null
       },
       "removedWidgets": [],
       "schema": [
        {
         "metadata": "{}",
         "name": "title",
         "type": "\"string\""
        },
        {
         "metadata": "{}",
         "name": "overall_rating",
         "type": "\"double\""
        }
       ],
       "type": "table"
      }
     },
     "output_type": "display_data"
    },
    {
     "output_type": "display_data",
     "data": {
      "text/plain": [
       "Databricks visualization. Run in Databricks to view."
      ]
     },
     "metadata": {
      "application/vnd.databricks.v1.subcommand+json": {
       "baseErrorDetails": null,
       "bindings": {},
       "collapsed": false,
       "command": "%sql WITH q AS (select  mt.title, avg(rt.rating) as overall_rating from rating_table rt join \nnew_movie mt on rt.movieId = mt.movieId where mt.index - 1 in (select ind from rec_ind)\ngroup by mt.title) SELECT `title`,SUM(`overall_rating`) `column_cfd7512e22` FROM q GROUP BY `title`",
       "commandTitle": "Visualization 1",
       "commandType": "auto",
       "commandVersion": 0,
       "commentThread": [],
       "commentsVisible": false,
       "contentSha256Hex": null,
       "customPlotOptions": {
        "redashChart": [
         {
          "key": "type",
          "value": "CHART"
         },
         {
          "key": "options",
          "value": {
           "alignYAxesAtZero": true,
           "coefficient": 1,
           "columnConfigurationMap": {
            "x": {
             "column": "title",
             "id": "column_cfd7512e21"
            },
            "y": [
             {
              "column": "overall_rating",
              "id": "column_cfd7512e22",
              "transform": "SUM"
             }
            ]
           },
           "dateTimeFormat": "DD/MM/YYYY HH:mm",
           "direction": {
            "type": "counterclockwise"
           },
           "error_y": {
            "type": "data",
            "visible": true
           },
           "globalSeriesType": "column",
           "legend": {
            "traceorder": "normal"
           },
           "missingValuesAsZero": true,
           "numberFormat": "0,0.[00000]",
           "percentFormat": "0[.]00%",
           "series": {
            "error_y": {
             "type": "data",
             "visible": true
            },
            "stacking": null
           },
           "seriesOptions": {
            "column_cfd7512e22": {
             "name": "overall_rating",
             "yAxis": 0
            }
           },
           "showDataLabels": false,
           "sizemode": "diameter",
           "sortX": true,
           "sortY": true,
           "swappedAxes": true,
           "textFormat": "",
           "useAggregationsUi": true,
           "valuesOptions": {},
           "version": 2,
           "xAxis": {
            "labels": {
             "enabled": true
            },
            "type": "-"
           },
           "yAxis": [
            {
             "type": "-"
            },
            {
             "opposite": true,
             "type": "-"
            }
           ]
          }
         }
        ]
       },
       "datasetPreviewNameToCmdIdMap": {},
       "diffDeletes": [],
       "diffInserts": [],
       "displayType": "redashChart",
       "error": null,
       "errorDetails": null,
       "errorSummary": null,
       "errorTraceType": null,
       "finishTime": 0,
       "globalVars": {},
       "guid": "",
       "height": "auto",
       "hideCommandCode": false,
       "hideCommandResult": false,
       "iPythonMetadata": null,
       "inputWidgets": {},
       "isLockedInExamMode": false,
       "latestUser": "a user",
       "latestUserId": null,
       "listResultMetadata": null,
       "metadata": {
        "byteLimit": 2048000,
        "implicitDf": true,
        "rowLimit": 10000
       },
       "nuid": "9ebdbbc8-1aba-4bd3-b0ab-5d68e16ea994",
       "origId": 0,
       "parentHierarchy": [],
       "pivotAggregation": null,
       "pivotColumns": null,
       "position": 13.0,
       "resultDbfsErrorMessage": null,
       "resultDbfsStatus": "INLINED_IN_TREE",
       "results": null,
       "showCommandTitle": false,
       "startTime": 0,
       "state": "finished",
       "streamStates": {},
       "subcommandOptions": {
        "queryPlan": {
         "groups": [
          {
           "column": "title",
           "type": "column"
          }
         ],
         "selects": [
          {
           "column": "title",
           "type": "column"
          },
          {
           "alias": "column_cfd7512e22",
           "args": [
            {
             "column": "overall_rating",
             "type": "column"
            }
           ],
           "function": "SUM",
           "type": "function"
          }
         ]
        }
       },
       "submitTime": 0,
       "subtype": "tableResultSubCmd.visualization",
       "tableResultIndex": 0,
       "useConsistentColors": false,
       "version": "CommandV1",
       "width": "auto",
       "workflows": [],
       "xColumns": null,
       "yColumns": null
      }
     },
     "output_type": "display_data"
    }
   ],
   "source": [
    "%sql\n",
    "select  mt.title, avg(rt.rating) as overall_rating from rating_table rt join \n",
    "new_movie mt on rt.movieId = mt.movieId where mt.index - 1 in (select ind from rec_ind)\n",
    "group by mt.title"
   ]
  },
  {
   "cell_type": "code",
   "execution_count": 0,
   "metadata": {
    "application/vnd.databricks.v1+cell": {
     "cellMetadata": {
      "byteLimit": 2048000,
      "implicitDf": true,
      "rowLimit": 10000
     },
     "inputWidgets": {},
     "nuid": "e066bbd0-1960-485d-9810-eb642b73d9bd",
     "showTitle": false,
     "title": ""
    }
   },
   "outputs": [
    {
     "output_type": "display_data",
     "data": {
      "text/html": [
       "<style scoped>\n",
       "  .table-result-container {\n",
       "    max-height: 300px;\n",
       "    overflow: auto;\n",
       "  }\n",
       "  table, th, td {\n",
       "    border: 1px solid black;\n",
       "    border-collapse: collapse;\n",
       "  }\n",
       "  th, td {\n",
       "    padding: 5px;\n",
       "  }\n",
       "  th {\n",
       "    text-align: left;\n",
       "  }\n",
       "</style><div class='table-result-container'><table class='table-result'><thead style='background-color: white'><tr><th>title</th><th>genres</th></tr></thead><tbody><tr><td>John Carter (2012)</td><td>Action|Adventure|Sci-Fi|IMAX</td></tr><tr><td>Adventures of Huck Finn, The (1993)</td><td>Adventure|Children|Comedy|Drama</td></tr><tr><td>Witch Hunt (1999)</td><td>Crime|Drama</td></tr><tr><td>Daffy Duck's Quackbusters (1988)</td><td>Animation|Children|Comedy|Horror</td></tr><tr><td>A Very Murray Christmas (2015)</td><td>Comedy</td></tr><tr><td>Dragon Ball Z: The Return of Cooler (Doragon bôru Z 6: Gekitotsu! Hyakuoku pawâ no senshi) (1992)</td><td>Action|Adventure|Animation</td></tr><tr><td>Power/Rangers (2015)</td><td>Action|Adventure|Sci-Fi</td></tr><tr><td>Requiem for the American Dream (2015)</td><td>Documentary</td></tr><tr><td>Presto (2008)</td><td>Animation|Children|Comedy|Fantasy</td></tr><tr><td>St Trinian's 2: The Legend of Fritton's Gold (2009)</td><td>Adventure|Comedy</td></tr></tbody></table></div>"
      ]
     },
     "metadata": {
      "application/vnd.databricks.v1+output": {
       "addedWidgets": {},
       "aggData": [],
       "aggError": "",
       "aggOverflow": false,
       "aggSchema": [],
       "aggSeriesLimitReached": false,
       "aggType": "",
       "arguments": {},
       "columnCustomDisplayInfos": {},
       "data": [
        [
         "John Carter (2012)",
         "Action|Adventure|Sci-Fi|IMAX"
        ],
        [
         "Adventures of Huck Finn, The (1993)",
         "Adventure|Children|Comedy|Drama"
        ],
        [
         "Witch Hunt (1999)",
         "Crime|Drama"
        ],
        [
         "Daffy Duck's Quackbusters (1988)",
         "Animation|Children|Comedy|Horror"
        ],
        [
         "A Very Murray Christmas (2015)",
         "Comedy"
        ],
        [
         "Dragon Ball Z: The Return of Cooler (Doragon bôru Z 6: Gekitotsu! Hyakuoku pawâ no senshi) (1992)",
         "Action|Adventure|Animation"
        ],
        [
         "Power/Rangers (2015)",
         "Action|Adventure|Sci-Fi"
        ],
        [
         "Requiem for the American Dream (2015)",
         "Documentary"
        ],
        [
         "Presto (2008)",
         "Animation|Children|Comedy|Fantasy"
        ],
        [
         "St Trinian's 2: The Legend of Fritton's Gold (2009)",
         "Adventure|Comedy"
        ]
       ],
       "datasetInfos": [],
       "dbfsResultPath": null,
       "isJsonSchema": true,
       "metadata": {},
       "overflow": false,
       "plotOptions": {
        "customPlotOptions": {},
        "displayType": "table",
        "pivotAggregation": null,
        "pivotColumns": null,
        "xColumns": null,
        "yColumns": null
       },
       "removedWidgets": [],
       "schema": [
        {
         "metadata": "{}",
         "name": "title",
         "type": "\"string\""
        },
        {
         "metadata": "{}",
         "name": "genres",
         "type": "\"string\""
        }
       ],
       "type": "table"
      }
     },
     "output_type": "display_data"
    }
   ],
   "source": [
    "%sql\n",
    "select  mt.title, mt.genres from rating_table rt join \n",
    "new_movie mt on rt.movieId = mt.movieId where mt.index - 1 in (select ind from rec_ind)\n",
    "group by mt.title,mt.genres"
   ]
  }
 ],
 "metadata": {
  "application/vnd.databricks.v1+notebook": {
   "dashboards": [
    {
     "elements": [
      {
       "dashboardResultIndex": null,
       "elementNUID": "9ebdbbc8-1aba-4bd3-b0ab-5d68e16ea994",
       "elementType": "command",
       "guid": "04a1899d-261e-4b9d-a989-3f64e7e03f22",
       "options": null,
       "position": {
        "height": 6,
        "width": 24,
        "x": 0,
        "y": 0,
        "z": null
       },
       "resultIndex": null
      },
      {
       "dashboardResultIndex": 0,
       "elementNUID": "e066bbd0-1960-485d-9810-eb642b73d9bd",
       "elementType": "command",
       "guid": "817af565-e478-47e8-b806-b84bc8e9e1e4",
       "options": null,
       "position": {
        "height": 7,
        "width": 20,
        "x": 2,
        "y": 6,
        "z": null
       },
       "resultIndex": null
      }
     ],
     "globalVars": {},
     "guid": "",
     "layoutOption": {
      "grid": true,
      "stack": true
     },
     "nuid": "b795f2bc-7dc8-4aab-80d5-b337a027d1b2",
     "origId": 1687162981499271,
     "title": "movie recommeder",
     "version": "DashboardViewV1",
     "width": 1024
    }
   ],
   "environmentMetadata": null,
   "language": "python",
   "notebookMetadata": {
    "mostRecentlyExecutedCommandWithImplicitDF": {
     "commandId": 1259042014371878,
     "dataframes": [
      "_sqldf"
     ]
    },
    "pythonIndentUnit": 4
   },
   "notebookName": "movies_recommendation_knn",
   "widgets": {
    "Entered_movie": {
     "currentValue": "avatar",
     "nuid": "9a5da7f1-9832-4500-b52f-fb24b9bf3d25",
     "typedWidgetInfo": null,
     "widgetInfo": {
      "widgetType": "text",
      "defaultValue": "Avatar",
      "label": "Type movie name",
      "name": "Entered_movie",
      "options": {
       "widgetType": "text",
       "autoCreated": null,
       "validationRegex": null
      }
     }
    }
   }
  }
 },
 "nbformat": 4,
 "nbformat_minor": 0
}
